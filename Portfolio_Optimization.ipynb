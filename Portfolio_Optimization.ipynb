{
 "cells": [
  {
   "cell_type": "markdown",
   "metadata": {},
   "source": [
    "В этом посте будет рассмотрено то, как оптимизировать портфель путем изменения весов входящих в него активов. Под оптимизацией портфеля понимантся такое соотношение весов, которое будет уловлетворять одному из условий:"
   ]
  },
  {
   "cell_type": "markdown",
   "metadata": {},
   "source": [
    "* Портфель с минимальным уровнем риском при желаемой доходности;\n",
    "* Портфель с максимальной доходностью при установленном риске;\n",
    "* Портфель с максимальным значением доходности"
   ]
  },
  {
   "cell_type": "markdown",
   "metadata": {},
   "source": [
    "В данном посте будут рассмотрены девять акций, которые предлагает торговый робот одного из брокеров и в конце будет рассмотрено - совпадают ли веса. Так как имеется значение показателя на начало января - можно будет приблизительно оценить как сильно отличается доходность и риски робота от выполненного ручного (т.е. при помощи кода на python) расчета. \n",
    "\n",
    "После недолгого анализа робот мне предложил сформировать портфель из девяти акций: 'ATVI','BA','CNP','CMA', 'STZ','GPN','MPC','NEM' и 'PKI'. Так как рассматриваем инвестирование, а не трейдинг - будем рассматривать временной горизонт три года. Соответственно и данне возьмем за этот период."
   ]
  },
  {
   "cell_type": "code",
   "execution_count": 3,
   "metadata": {},
   "outputs": [
    {
     "name": "stdout",
     "output_type": "stream",
     "text": [
      "Collecting yfinance\n",
      "  Using cached yfinance-0.1.54.tar.gz (19 kB)\n",
      "Requirement already satisfied: pandas>=0.24 in c:\\users\\zmey5\\anaconda3\\lib\\site-packages (from yfinance) (1.0.1)\n",
      "Requirement already satisfied: numpy>=1.15 in c:\\users\\zmey5\\anaconda3\\lib\\site-packages (from yfinance) (1.18.1)\n",
      "Requirement already satisfied: requests>=2.20 in c:\\users\\zmey5\\anaconda3\\lib\\site-packages (from yfinance) (2.22.0)\n",
      "Collecting multitasking>=0.0.7\n",
      "  Using cached multitasking-0.0.9.tar.gz (8.1 kB)\n",
      "Requirement already satisfied: python-dateutil>=2.6.1 in c:\\users\\zmey5\\anaconda3\\lib\\site-packages (from pandas>=0.24->yfinance) (2.8.1)\n",
      "Requirement already satisfied: pytz>=2017.2 in c:\\users\\zmey5\\anaconda3\\lib\\site-packages (from pandas>=0.24->yfinance) (2019.3)\n",
      "Requirement already satisfied: idna<2.9,>=2.5 in c:\\users\\zmey5\\anaconda3\\lib\\site-packages (from requests>=2.20->yfinance) (2.8)\n",
      "Requirement already satisfied: urllib3!=1.25.0,!=1.25.1,<1.26,>=1.21.1 in c:\\users\\zmey5\\anaconda3\\lib\\site-packages (from requests>=2.20->yfinance) (1.25.8)\n",
      "Requirement already satisfied: certifi>=2017.4.17 in c:\\users\\zmey5\\anaconda3\\lib\\site-packages (from requests>=2.20->yfinance) (2019.11.28)\n",
      "Requirement already satisfied: chardet<3.1.0,>=3.0.2 in c:\\users\\zmey5\\anaconda3\\lib\\site-packages (from requests>=2.20->yfinance) (3.0.4)\n",
      "Requirement already satisfied: six>=1.5 in c:\\users\\zmey5\\anaconda3\\lib\\site-packages (from python-dateutil>=2.6.1->pandas>=0.24->yfinance) (1.14.0)\n",
      "Building wheels for collected packages: yfinance, multitasking\n",
      "  Building wheel for yfinance (setup.py): started\n",
      "  Building wheel for yfinance (setup.py): finished with status 'done'\n",
      "  Created wheel for yfinance: filename=yfinance-0.1.54-py2.py3-none-any.whl size=22415 sha256=b7a692e5b9846390f64b73b8f4b35a8bbef34be97fa1fa677caa1ac283c1b7f5\n",
      "  Stored in directory: c:\\users\\zmey5\\appdata\\local\\pip\\cache\\wheels\\28\\79\\3c\\08a301b673366fe664fe2853e136eb2acc1bb752045c11c6a1\n",
      "  Building wheel for multitasking (setup.py): started\n",
      "  Building wheel for multitasking (setup.py): finished with status 'done'\n",
      "  Created wheel for multitasking: filename=multitasking-0.0.9-py3-none-any.whl size=8374 sha256=86b8e88e9fc7996dc4683c1530eafe5ce28fe80470988968214883b3b33af1b0\n",
      "  Stored in directory: c:\\users\\zmey5\\appdata\\local\\pip\\cache\\wheels\\ae\\25\\47\\4d68431a7ec1b6c4b5233365934b74c1d4e665bf5f968d363a\n",
      "Successfully built yfinance multitasking\n",
      "Installing collected packages: multitasking, yfinance\n",
      "Successfully installed multitasking-0.0.9 yfinance-0.1.54\n",
      "Note: you may need to restart the kernel to use updated packages.\n"
     ]
    }
   ],
   "source": [
    "pip install yfinance"
   ]
  },
  {
   "cell_type": "code",
   "execution_count": 1,
   "metadata": {},
   "outputs": [],
   "source": [
    "#Загружаю библиотеки\n",
    "\n",
    "import pandas as pd\n",
    "import yfinance as yf\n",
    "import numpy as np\n",
    "import matplotlib.pyplot as plt"
   ]
  },
  {
   "cell_type": "code",
   "execution_count": 2,
   "metadata": {},
   "outputs": [],
   "source": [
    "ticker = ['ATVI','BA','CNP','CMA', 'STZ','GPN','MPC','NEM', 'PKI']"
   ]
  },
  {
   "cell_type": "code",
   "execution_count": 3,
   "metadata": {},
   "outputs": [
    {
     "name": "stdout",
     "output_type": "stream",
     "text": [
      "[*********************100%***********************]  9 of 9 completed\n"
     ]
    }
   ],
   "source": [
    "stock = yf.download(ticker,'2017-01-01', '2019-01-31')"
   ]
  },
  {
   "cell_type": "markdown",
   "metadata": {},
   "source": [
    "Веса всех акций, входящих в портфель должны составлять единицу. В начале будут взяты те, которые предложил робот. Будет расчитана доходность и стандартное отклонение портфеля. Затем будет использована  симуляция Монте-Карло для получения оптимальных весов. "
   ]
  },
  {
   "cell_type": "markdown",
   "metadata": {},
   "source": [
    "**Симуляция Монте-Карло**\n",
    "\n",
    "Приведу краткое описание, которое приводиться в одном из постов, о том, как применяется метод Монте -Карлоя для подбора оптимального портфеля. \n",
    "\n",
    "Сначала акциям задаются случайные веса. Производиться расчет доходности и стандартного отклонения и сохраняем его. Потом случайным образом меняются веса (главное не забывать, что их сумма должна составлять единицу)и повторяется предыидущих шаг - расчет и сохранение полученного значения. Количество итераций зависит от времени, машинки для расчета и риска, который готов принять инвестор. В этом посте попробуем провести 10000 расчетов для выявления портфеля, который будет удовлетворять любому из трех условий.\n",
    "\n",
    "**Оптимизация портфеля на Python**"
   ]
  },
  {
   "cell_type": "code",
   "execution_count": 4,
   "metadata": {},
   "outputs": [
    {
     "data": {
      "text/html": [
       "<div>\n",
       "<style scoped>\n",
       "    .dataframe tbody tr th:only-of-type {\n",
       "        vertical-align: middle;\n",
       "    }\n",
       "\n",
       "    .dataframe tbody tr th {\n",
       "        vertical-align: top;\n",
       "    }\n",
       "\n",
       "    .dataframe thead tr th {\n",
       "        text-align: left;\n",
       "    }\n",
       "\n",
       "    .dataframe thead tr:last-of-type th {\n",
       "        text-align: right;\n",
       "    }\n",
       "</style>\n",
       "<table border=\"1\" class=\"dataframe\">\n",
       "  <thead>\n",
       "    <tr>\n",
       "      <th></th>\n",
       "      <th colspan=\"9\" halign=\"left\">Adj Close</th>\n",
       "    </tr>\n",
       "    <tr>\n",
       "      <th></th>\n",
       "      <th>ATVI</th>\n",
       "      <th>BA</th>\n",
       "      <th>CMA</th>\n",
       "      <th>CNP</th>\n",
       "      <th>GPN</th>\n",
       "      <th>MPC</th>\n",
       "      <th>NEM</th>\n",
       "      <th>PKI</th>\n",
       "      <th>STZ</th>\n",
       "    </tr>\n",
       "    <tr>\n",
       "      <th>Date</th>\n",
       "      <th></th>\n",
       "      <th></th>\n",
       "      <th></th>\n",
       "      <th></th>\n",
       "      <th></th>\n",
       "      <th></th>\n",
       "      <th></th>\n",
       "      <th></th>\n",
       "      <th></th>\n",
       "    </tr>\n",
       "  </thead>\n",
       "  <tbody>\n",
       "    <tr>\n",
       "      <th>2017-01-03</th>\n",
       "      <td>35.71</td>\n",
       "      <td>145.53</td>\n",
       "      <td>62.92</td>\n",
       "      <td>21.58</td>\n",
       "      <td>70.27</td>\n",
       "      <td>47.81</td>\n",
       "      <td>32.28</td>\n",
       "      <td>52.25</td>\n",
       "      <td>148.24</td>\n",
       "    </tr>\n",
       "    <tr>\n",
       "      <th>2017-01-04</th>\n",
       "      <td>36.41</td>\n",
       "      <td>147.06</td>\n",
       "      <td>63.45</td>\n",
       "      <td>21.77</td>\n",
       "      <td>72.89</td>\n",
       "      <td>46.28</td>\n",
       "      <td>32.59</td>\n",
       "      <td>52.56</td>\n",
       "      <td>151.34</td>\n",
       "    </tr>\n",
       "    <tr>\n",
       "      <th>2017-01-05</th>\n",
       "      <td>36.97</td>\n",
       "      <td>147.15</td>\n",
       "      <td>63.45</td>\n",
       "      <td>21.77</td>\n",
       "      <td>73.18</td>\n",
       "      <td>46.11</td>\n",
       "      <td>34.09</td>\n",
       "      <td>52.00</td>\n",
       "      <td>140.58</td>\n",
       "    </tr>\n",
       "    <tr>\n",
       "      <th>2017-01-06</th>\n",
       "      <td>36.94</td>\n",
       "      <td>147.51</td>\n",
       "      <td>64.12</td>\n",
       "      <td>22.26</td>\n",
       "      <td>74.21</td>\n",
       "      <td>45.50</td>\n",
       "      <td>33.02</td>\n",
       "      <td>52.37</td>\n",
       "      <td>143.15</td>\n",
       "    </tr>\n",
       "    <tr>\n",
       "      <th>2017-01-09</th>\n",
       "      <td>36.74</td>\n",
       "      <td>146.79</td>\n",
       "      <td>63.45</td>\n",
       "      <td>21.83</td>\n",
       "      <td>79.53</td>\n",
       "      <td>44.67</td>\n",
       "      <td>32.96</td>\n",
       "      <td>52.81</td>\n",
       "      <td>143.95</td>\n",
       "    </tr>\n",
       "  </tbody>\n",
       "</table>\n",
       "</div>"
      ],
      "text/plain": [
       "           Adj Close                                                          \n",
       "                ATVI      BA    CMA    CNP    GPN    MPC    NEM    PKI     STZ\n",
       "Date                                                                          \n",
       "2017-01-03     35.71  145.53  62.92  21.58  70.27  47.81  32.28  52.25  148.24\n",
       "2017-01-04     36.41  147.06  63.45  21.77  72.89  46.28  32.59  52.56  151.34\n",
       "2017-01-05     36.97  147.15  63.45  21.77  73.18  46.11  34.09  52.00  140.58\n",
       "2017-01-06     36.94  147.51  64.12  22.26  74.21  45.50  33.02  52.37  143.15\n",
       "2017-01-09     36.74  146.79  63.45  21.83  79.53  44.67  32.96  52.81  143.95"
      ]
     },
     "execution_count": 4,
     "metadata": {},
     "output_type": "execute_result"
    }
   ],
   "source": [
    "# Выделение скорректированой цены закрытия\n",
    "all_adj_close = stock[['Adj Close']]\n",
    "all_adj_close.round(2).head()"
   ]
  },
  {
   "cell_type": "markdown",
   "metadata": {},
   "source": [
    "Дальше необходимо получить ежедневную доходность по каждой акции"
   ]
  },
  {
   "cell_type": "code",
   "execution_count": 5,
   "metadata": {},
   "outputs": [],
   "source": [
    "all_returns = all_adj_close.pct_change()"
   ]
  },
  {
   "cell_type": "code",
   "execution_count": 6,
   "metadata": {},
   "outputs": [
    {
     "data": {
      "text/html": [
       "<div>\n",
       "<style scoped>\n",
       "    .dataframe tbody tr th:only-of-type {\n",
       "        vertical-align: middle;\n",
       "    }\n",
       "\n",
       "    .dataframe tbody tr th {\n",
       "        vertical-align: top;\n",
       "    }\n",
       "\n",
       "    .dataframe thead tr th {\n",
       "        text-align: left;\n",
       "    }\n",
       "\n",
       "    .dataframe thead tr:last-of-type th {\n",
       "        text-align: right;\n",
       "    }\n",
       "</style>\n",
       "<table border=\"1\" class=\"dataframe\">\n",
       "  <thead>\n",
       "    <tr>\n",
       "      <th></th>\n",
       "      <th colspan=\"9\" halign=\"left\">Adj Close</th>\n",
       "    </tr>\n",
       "    <tr>\n",
       "      <th></th>\n",
       "      <th>ATVI</th>\n",
       "      <th>BA</th>\n",
       "      <th>CMA</th>\n",
       "      <th>CNP</th>\n",
       "      <th>GPN</th>\n",
       "      <th>MPC</th>\n",
       "      <th>NEM</th>\n",
       "      <th>PKI</th>\n",
       "      <th>STZ</th>\n",
       "    </tr>\n",
       "    <tr>\n",
       "      <th>Date</th>\n",
       "      <th></th>\n",
       "      <th></th>\n",
       "      <th></th>\n",
       "      <th></th>\n",
       "      <th></th>\n",
       "      <th></th>\n",
       "      <th></th>\n",
       "      <th></th>\n",
       "      <th></th>\n",
       "    </tr>\n",
       "  </thead>\n",
       "  <tbody>\n",
       "    <tr>\n",
       "      <th>2017-01-03</th>\n",
       "      <td>NaN</td>\n",
       "      <td>NaN</td>\n",
       "      <td>NaN</td>\n",
       "      <td>NaN</td>\n",
       "      <td>NaN</td>\n",
       "      <td>NaN</td>\n",
       "      <td>NaN</td>\n",
       "      <td>NaN</td>\n",
       "      <td>NaN</td>\n",
       "    </tr>\n",
       "    <tr>\n",
       "      <th>2017-01-04</th>\n",
       "      <td>1.97</td>\n",
       "      <td>1.05</td>\n",
       "      <td>0.84</td>\n",
       "      <td>0.89</td>\n",
       "      <td>3.73</td>\n",
       "      <td>-3.19</td>\n",
       "      <td>0.95</td>\n",
       "      <td>0.58</td>\n",
       "      <td>2.09</td>\n",
       "    </tr>\n",
       "    <tr>\n",
       "      <th>2017-01-05</th>\n",
       "      <td>1.55</td>\n",
       "      <td>0.06</td>\n",
       "      <td>0.00</td>\n",
       "      <td>0.00</td>\n",
       "      <td>0.40</td>\n",
       "      <td>-0.37</td>\n",
       "      <td>4.61</td>\n",
       "      <td>-1.07</td>\n",
       "      <td>-7.11</td>\n",
       "    </tr>\n",
       "    <tr>\n",
       "      <th>2017-01-06</th>\n",
       "      <td>-0.08</td>\n",
       "      <td>0.25</td>\n",
       "      <td>1.05</td>\n",
       "      <td>2.22</td>\n",
       "      <td>1.40</td>\n",
       "      <td>-1.33</td>\n",
       "      <td>-3.14</td>\n",
       "      <td>0.72</td>\n",
       "      <td>1.83</td>\n",
       "    </tr>\n",
       "    <tr>\n",
       "      <th>2017-01-09</th>\n",
       "      <td>-0.55</td>\n",
       "      <td>-0.49</td>\n",
       "      <td>-1.04</td>\n",
       "      <td>-1.89</td>\n",
       "      <td>7.17</td>\n",
       "      <td>-1.81</td>\n",
       "      <td>-0.17</td>\n",
       "      <td>0.83</td>\n",
       "      <td>0.56</td>\n",
       "    </tr>\n",
       "  </tbody>\n",
       "</table>\n",
       "</div>"
      ],
      "text/plain": [
       "           Adj Close                                                \n",
       "                ATVI    BA   CMA   CNP   GPN   MPC   NEM   PKI   STZ\n",
       "Date                                                                \n",
       "2017-01-03       NaN   NaN   NaN   NaN   NaN   NaN   NaN   NaN   NaN\n",
       "2017-01-04      1.97  1.05  0.84  0.89  3.73 -3.19  0.95  0.58  2.09\n",
       "2017-01-05      1.55  0.06  0.00  0.00  0.40 -0.37  4.61 -1.07 -7.11\n",
       "2017-01-06     -0.08  0.25  1.05  2.22  1.40 -1.33 -3.14  0.72  1.83\n",
       "2017-01-09     -0.55 -0.49 -1.04 -1.89  7.17 -1.81 -0.17  0.83  0.56"
      ]
     },
     "execution_count": 6,
     "metadata": {},
     "output_type": "execute_result"
    }
   ],
   "source": [
    "all_returns.round(4).head()*100"
   ]
  },
  {
   "cell_type": "markdown",
   "metadata": {},
   "source": [
    "Теперь можно вычислить доходность каждой акции и построить ковариационную матрицу для того чтобы оценить силу взаимосвязи элементов. "
   ]
  },
  {
   "cell_type": "code",
   "execution_count": 7,
   "metadata": {},
   "outputs": [
    {
     "name": "stdout",
     "output_type": "stream",
     "text": [
      "Adj Close  ATVI    0.000712\n",
      "           BA      0.001957\n",
      "           CMA     0.000483\n",
      "           CNP     0.000595\n",
      "           GPN     0.001025\n",
      "           MPC     0.000647\n",
      "           NEM     0.000139\n",
      "           PKI     0.001144\n",
      "           STZ     0.000334\n",
      "dtype: float64\n",
      "               Adj Close                                                    \\\n",
      "                    ATVI        BA       CMA       CNP       GPN       MPC   \n",
      "Adj Close ATVI  0.000485  0.000136  0.000071  0.000029  0.000148  0.000110   \n",
      "          BA    0.000136  0.000268  0.000091  0.000027  0.000105  0.000109   \n",
      "          CMA   0.000071  0.000091  0.000216  0.000009  0.000072  0.000092   \n",
      "          CNP   0.000029  0.000027  0.000009  0.000099  0.000021  0.000019   \n",
      "          GPN   0.000148  0.000105  0.000072  0.000021  0.000217  0.000084   \n",
      "          MPC   0.000110  0.000109  0.000092  0.000019  0.000084  0.000282   \n",
      "          NEM   0.000013  0.000022 -0.000016  0.000012  0.000011  0.000032   \n",
      "          PKI   0.000132  0.000109  0.000076  0.000027  0.000123  0.000091   \n",
      "          STZ   0.000063  0.000054  0.000028  0.000025  0.000065  0.000046   \n",
      "\n",
      "                                              \n",
      "                     NEM       PKI       STZ  \n",
      "Adj Close ATVI  0.000013  0.000132  0.000063  \n",
      "          BA    0.000022  0.000109  0.000054  \n",
      "          CMA  -0.000016  0.000076  0.000028  \n",
      "          CNP   0.000012  0.000027  0.000025  \n",
      "          GPN   0.000011  0.000123  0.000065  \n",
      "          MPC   0.000032  0.000091  0.000046  \n",
      "          NEM   0.000277  0.000021 -0.000002  \n",
      "          PKI   0.000021  0.000207  0.000057  \n",
      "          STZ  -0.000002  0.000057  0.000201  \n"
     ]
    }
   ],
   "source": [
    "mean_returns = all_returns.mean()\n",
    "cov_matrix = all_returns.cov()\n",
    "print (mean_returns)\n",
    "print (cov_matrix)"
   ]
  },
  {
   "cell_type": "markdown",
   "metadata": {},
   "source": [
    "Теперь проведем расчет для первоначально предложенных весов роботом и узнаем доходность портфеля и стандартное отклонение (напоминаю, что через нее можно узнать волатильность)."
   ]
  },
  {
   "cell_type": "code",
   "execution_count": 8,
   "metadata": {},
   "outputs": [],
   "source": [
    "#предложение торгового робота\n",
    "robot = np.array([0.0441, 0.1030, 0.1086, 0.2070, 0.1525, 0.0714, 0.0647, 0.1828, 0.0661])"
   ]
  },
  {
   "cell_type": "code",
   "execution_count": 9,
   "metadata": {},
   "outputs": [],
   "source": [
    "portfolio_return_robot = np.sum(mean_returns * robot)\n",
    "portfolio_std_dev_robot = np.sqrt(np.dot(robot.T,np.dot(cov_matrix, robot)))\n",
    "sharpo_robot = portfolio_return_robot/portfolio_std_dev_robot"
   ]
  },
  {
   "cell_type": "code",
   "execution_count": 10,
   "metadata": {},
   "outputs": [],
   "source": [
    "robot_result = np.array([portfolio_return_robot, portfolio_std_dev_robot, sharpo_robot])"
   ]
  },
  {
   "cell_type": "code",
   "execution_count": 11,
   "metadata": {},
   "outputs": [],
   "source": [
    "robot_result = np.concatenate((robot_result, robot), axis=0)"
   ]
  },
  {
   "cell_type": "code",
   "execution_count": 12,
   "metadata": {},
   "outputs": [],
   "source": [
    "robot_sim_result = pd.DataFrame(robot_result, columns=['Robot'], index=['ret','stdev','sharpe',ticker[0],ticker[1],ticker[2],ticker[3],\n",
    "                                                  ticker[4],ticker[5],ticker[6],ticker[7],ticker[8]])"
   ]
  },
  {
   "cell_type": "code",
   "execution_count": 13,
   "metadata": {},
   "outputs": [
    {
     "data": {
      "text/html": [
       "<div>\n",
       "<style scoped>\n",
       "    .dataframe tbody tr th:only-of-type {\n",
       "        vertical-align: middle;\n",
       "    }\n",
       "\n",
       "    .dataframe tbody tr th {\n",
       "        vertical-align: top;\n",
       "    }\n",
       "\n",
       "    .dataframe thead th {\n",
       "        text-align: right;\n",
       "    }\n",
       "</style>\n",
       "<table border=\"1\" class=\"dataframe\">\n",
       "  <thead>\n",
       "    <tr style=\"text-align: right;\">\n",
       "      <th></th>\n",
       "      <th>Robot</th>\n",
       "    </tr>\n",
       "  </thead>\n",
       "  <tbody>\n",
       "    <tr>\n",
       "      <th>ret</th>\n",
       "      <td>0.000851</td>\n",
       "    </tr>\n",
       "    <tr>\n",
       "      <th>stdev</th>\n",
       "      <td>0.008626</td>\n",
       "    </tr>\n",
       "    <tr>\n",
       "      <th>sharpe</th>\n",
       "      <td>0.098696</td>\n",
       "    </tr>\n",
       "    <tr>\n",
       "      <th>ATVI</th>\n",
       "      <td>0.044100</td>\n",
       "    </tr>\n",
       "    <tr>\n",
       "      <th>BA</th>\n",
       "      <td>0.103000</td>\n",
       "    </tr>\n",
       "    <tr>\n",
       "      <th>CNP</th>\n",
       "      <td>0.108600</td>\n",
       "    </tr>\n",
       "    <tr>\n",
       "      <th>CMA</th>\n",
       "      <td>0.207000</td>\n",
       "    </tr>\n",
       "    <tr>\n",
       "      <th>STZ</th>\n",
       "      <td>0.152500</td>\n",
       "    </tr>\n",
       "    <tr>\n",
       "      <th>GPN</th>\n",
       "      <td>0.071400</td>\n",
       "    </tr>\n",
       "    <tr>\n",
       "      <th>MPC</th>\n",
       "      <td>0.064700</td>\n",
       "    </tr>\n",
       "    <tr>\n",
       "      <th>NEM</th>\n",
       "      <td>0.182800</td>\n",
       "    </tr>\n",
       "    <tr>\n",
       "      <th>PKI</th>\n",
       "      <td>0.066100</td>\n",
       "    </tr>\n",
       "  </tbody>\n",
       "</table>\n",
       "</div>"
      ],
      "text/plain": [
       "           Robot\n",
       "ret     0.000851\n",
       "stdev   0.008626\n",
       "sharpe  0.098696\n",
       "ATVI    0.044100\n",
       "BA      0.103000\n",
       "CNP     0.108600\n",
       "CMA     0.207000\n",
       "STZ     0.152500\n",
       "GPN     0.071400\n",
       "MPC     0.064700\n",
       "NEM     0.182800\n",
       "PKI     0.066100"
      ]
     },
     "execution_count": 13,
     "metadata": {},
     "output_type": "execute_result"
    }
   ],
   "source": [
    "robot_sim_result"
   ]
  },
  {
   "cell_type": "markdown",
   "metadata": {},
   "source": [
    "Дальше начинается перебор различных значений весов входящих акций для поиска оптимальных значений. Сначала определяется массиd, который будет содержать в себе значения каждой итерации: доходности, стандартного отклонения, коэффициента Шарпа и весов. Первоначально результирующий массив состоит только из нулей и по мере каждого шага заполняется. Количество столбцов в массиве 12 (доходность, стандартное отклонение, коэффициент Шарпа и 9 весов акций). Соответственно с изменением количества инструментов размерность будет меняться и для этого будет использоваться функция LEN. Ну а количество строк соответствует числу интераций."
   ]
  },
  {
   "cell_type": "code",
   "execution_count": 14,
   "metadata": {},
   "outputs": [],
   "source": [
    "#создаем массив из нулей\n",
    "num_iterations = 10000\n",
    "simulation_res = np.zeros((4+len(ticker)-1,num_iterations))"
   ]
  },
  {
   "cell_type": "markdown",
   "metadata": {},
   "source": [
    "Теперь начинается самое интересное - итерации"
   ]
  },
  {
   "cell_type": "code",
   "execution_count": 15,
   "metadata": {},
   "outputs": [],
   "source": [
    "for i in range(num_iterations):\n",
    "        #Выбрать случайные веса и нормализовать, чтоб сумма равнялась 1\n",
    "        weights = np.array(np.random.random(9))\n",
    "        weights /= np.sum(weights)\n",
    "        \n",
    "        #Вычислить доходность и стандартное отклонение\n",
    "        portfolio_return = np.sum(mean_returns * weights)\n",
    "        portfolio_std_dev = np.sqrt(np.dot(weights.T,np.dot(cov_matrix, weights)))\n",
    "        \n",
    "        #Сохранить все полученные значения в массив\n",
    "        simulation_res[0,i] = portfolio_return\n",
    "        simulation_res[1,i] = portfolio_std_dev\n",
    "        \n",
    "        #Вычислить коэффициент Шарпа и сохранить\n",
    "        simulation_res[2,i] = simulation_res[0,i] / simulation_res[1,i]\n",
    "        \n",
    "        #Сохранить веса\n",
    "        for j in range(len(weights)):\n",
    "                simulation_res[j+3,i] = weights[j]"
   ]
  },
  {
   "cell_type": "markdown",
   "metadata": {},
   "source": [
    "Теперь сохраним полученный массив в DataFrame для построения данных и анализа."
   ]
  },
  {
   "cell_type": "code",
   "execution_count": 16,
   "metadata": {},
   "outputs": [
    {
     "name": "stdout",
     "output_type": "stream",
     "text": [
      "        ret     stdev    sharpe      ATVI        BA       CNP       CMA  \\\n",
      "0  0.000743  0.010867  0.068325  0.235652  0.004229  0.258350  0.096887   \n",
      "1  0.000845  0.010337  0.081713  0.187396  0.096715  0.086380  0.038334   \n",
      "2  0.000782  0.009555  0.081814  0.126027  0.107052  0.054981  0.049504   \n",
      "3  0.000733  0.008008  0.091498  0.061373  0.043377  0.097831  0.308353   \n",
      "4  0.000736  0.009937  0.074026  0.088832  0.020420  0.215663  0.041043   \n",
      "\n",
      "        STZ       GPN       MPC       NEM       PKI  \n",
      "0  0.190708  0.076662  0.015076  0.118405  0.004031  \n",
      "1  0.155977  0.108024  0.138785  0.179585  0.008803  \n",
      "2  0.171936  0.132567  0.090750  0.077243  0.189941  \n",
      "3  0.040273  0.065410  0.076661  0.218032  0.088690  \n",
      "4  0.216417  0.174671  0.044165  0.118889  0.079900  \n",
      "           ret     stdev    sharpe      ATVI        BA       CNP       CMA  \\\n",
      "9995  0.000688  0.009121  0.075395  0.127954  0.012266  0.136548  0.141049   \n",
      "9996  0.000731  0.009592  0.076219  0.081244  0.012465  0.137770  0.077534   \n",
      "9997  0.000783  0.009369  0.083560  0.100703  0.144493  0.163295  0.049890   \n",
      "9998  0.000584  0.008681  0.067309  0.161387  0.000984  0.173469  0.292285   \n",
      "9999  0.000611  0.008815  0.069292  0.134607  0.000241  0.001778  0.129467   \n",
      "\n",
      "           STZ       GPN       MPC       NEM       PKI  \n",
      "9995  0.223715  0.127599  0.148018  0.077057  0.005796  \n",
      "9996  0.151266  0.153519  0.012981  0.191687  0.181533  \n",
      "9997  0.021830  0.172832  0.151635  0.122473  0.072849  \n",
      "9998  0.035265  0.003220  0.001402  0.074605  0.257382  \n",
      "9999  0.131583  0.065058  0.209021  0.149263  0.178983  \n"
     ]
    }
   ],
   "source": [
    "sim_frame = pd.DataFrame(simulation_res.T,columns=['ret','stdev','sharpe',ticker[0],ticker[1],ticker[2],ticker[3],\n",
    "                                                  ticker[4],ticker[5],ticker[6],ticker[7],ticker[8]])\n",
    "print (sim_frame.head())\n",
    "print (sim_frame.tail())"
   ]
  },
  {
   "cell_type": "markdown",
   "metadata": {},
   "source": [
    "Выше показано несколько строк первых и последних получившигося результата моделирования. Теперь мы можно рассчитать портфель с максимальным коэффициентом Шарпа или минимальным риском."
   ]
  },
  {
   "cell_type": "code",
   "execution_count": 17,
   "metadata": {},
   "outputs": [
    {
     "name": "stdout",
     "output_type": "stream",
     "text": [
      "The portfolio for max Sharpe Ratio:\n",
      " ret       0.001187\n",
      "stdev     0.010345\n",
      "sharpe    0.114765\n",
      "ATVI      0.032895\n",
      "BA        0.382443\n",
      "CNP       0.028306\n",
      "CMA       0.059456\n",
      "STZ       0.104206\n",
      "GPN       0.034836\n",
      "MPC       0.122971\n",
      "NEM       0.174560\n",
      "PKI       0.060327\n",
      "Name: 3614, dtype: float64\n",
      "The portfolio for min risk:\n",
      " ret       0.000496\n",
      "stdev     0.007462\n",
      "sharpe    0.066462\n",
      "ATVI      0.010439\n",
      "BA        0.029039\n",
      "CNP       0.097866\n",
      "CMA       0.264955\n",
      "STZ       0.083873\n",
      "GPN       0.044646\n",
      "MPC       0.247875\n",
      "NEM       0.004053\n",
      "PKI       0.217253\n",
      "Name: 9644, dtype: float64\n"
     ]
    }
   ],
   "source": [
    "#Spot the position of the portfolio with highest Sharpe Ratio\n",
    "max_sharpe = sim_frame.iloc[sim_frame['sharpe'].idxmax()]\n",
    "\n",
    "#Spot the position of the portfolio with minimum Standard Deviation\n",
    "min_std = sim_frame.iloc[sim_frame['stdev'].idxmin()]\n",
    "\n",
    "robot_sim_result['Max Sh.Ratio'] = max_sharpe\n",
    "robot_sim_result['Min Risk'] = min_std\n",
    "\n",
    "print (\"The portfolio for max Sharpe Ratio:\\n\", max_sharpe)\n",
    "print (\"The portfolio for min risk:\\n\", min_std)"
   ]
  },
  {
   "cell_type": "markdown",
   "metadata": {},
   "source": [
    "Так же полученные значения могут быть построены при помощи библиотеки matplotlib и полученные значения визуализированы."
   ]
  },
  {
   "cell_type": "code",
   "execution_count": 18,
   "metadata": {},
   "outputs": [
    {
     "data": {
      "image/png": "[encoded data removed]",
      "text/plain": [
       "<Figure size 720x720 with 1 Axes>"
      ]
     },
     "metadata": {
      "needs_background": "light"
     },
     "output_type": "display_data"
    }
   ],
   "source": [
    "fig, ax = plt.subplots(figsize=(10, 10))\n",
    "\n",
    "#Create a scatter plot coloured by various Sharpe Ratios with standard deviation on the x-axis and returns on the y-axis\n",
    "plt.scatter(sim_frame.stdev,sim_frame.ret,c=sim_frame.sharpe,cmap='RdYlBu')\n",
    "plt.xlabel('Standard Deviation')\n",
    "plt.ylabel('Returns')\n",
    "plt.ylim(0,.0015)\n",
    "plt.xlim(0.007,0.012)\n",
    "\n",
    "#Plot a red star to highlight position of the portfolio with highest Sharpe Ratio\n",
    "plt.scatter(max_sharpe[1],max_sharpe[0],marker=(5,1,0),color='r',s=600)\n",
    "\n",
    "#Plot a blue star to highlight position of the portfolio with minimum Variance\n",
    "plt.scatter(min_std[1],min_std[0],marker=(5,1,0),color='b',s=600)\n",
    "\n",
    "#Plot a green star to highlight position of the portfolio with minimum Variance\n",
    "plt.scatter(portfolio_std_dev_robot, portfolio_return_robot,marker=(5,1,0),color='g',s=600)\n",
    "\n",
    "plt.show()"
   ]
  },
  {
   "cell_type": "markdown",
   "metadata": {},
   "source": [
    "Портфель с максимальным коэффициентом Шарпа показан красной звездой, синей - с минимальным стандартным отклонением и зеленая - портфель, предложенный роботом.Как видно - портфель предложенный роботом не совпадает с этими показателями. На каком остановиться портфеле - выбор за инвестором. "
   ]
  },
  {
   "cell_type": "markdown",
   "metadata": {},
   "source": [
    "### Что же за 3 месяца"
   ]
  },
  {
   "cell_type": "code",
   "execution_count": 19,
   "metadata": {},
   "outputs": [
    {
     "name": "stdout",
     "output_type": "stream",
     "text": [
      "[*********************100%***********************]  9 of 9 completed\n"
     ]
    }
   ],
   "source": [
    "stock_now = yf.download(ticker,'2020-01-01', '2020-03-31')"
   ]
  },
  {
   "cell_type": "code",
   "execution_count": 23,
   "metadata": {},
   "outputs": [
    {
     "data": {
      "text/html": [
       "<div>\n",
       "<style scoped>\n",
       "    .dataframe tbody tr th:only-of-type {\n",
       "        vertical-align: middle;\n",
       "    }\n",
       "\n",
       "    .dataframe tbody tr th {\n",
       "        vertical-align: top;\n",
       "    }\n",
       "\n",
       "    .dataframe thead tr th {\n",
       "        text-align: left;\n",
       "    }\n",
       "\n",
       "    .dataframe thead tr:last-of-type th {\n",
       "        text-align: right;\n",
       "    }\n",
       "</style>\n",
       "<table border=\"1\" class=\"dataframe\">\n",
       "  <thead>\n",
       "    <tr>\n",
       "      <th></th>\n",
       "      <th colspan=\"9\" halign=\"left\">Adj Close</th>\n",
       "    </tr>\n",
       "    <tr>\n",
       "      <th></th>\n",
       "      <th>ATVI</th>\n",
       "      <th>BA</th>\n",
       "      <th>CMA</th>\n",
       "      <th>CNP</th>\n",
       "      <th>GPN</th>\n",
       "      <th>MPC</th>\n",
       "      <th>NEM</th>\n",
       "      <th>PKI</th>\n",
       "      <th>STZ</th>\n",
       "    </tr>\n",
       "    <tr>\n",
       "      <th>Date</th>\n",
       "      <th></th>\n",
       "      <th></th>\n",
       "      <th></th>\n",
       "      <th></th>\n",
       "      <th></th>\n",
       "      <th></th>\n",
       "      <th></th>\n",
       "      <th></th>\n",
       "      <th></th>\n",
       "    </tr>\n",
       "  </thead>\n",
       "  <tbody>\n",
       "    <tr>\n",
       "      <th>2019-12-31</th>\n",
       "      <td>NaN</td>\n",
       "      <td>NaN</td>\n",
       "      <td>NaN</td>\n",
       "      <td>NaN</td>\n",
       "      <td>NaN</td>\n",
       "      <td>NaN</td>\n",
       "      <td>NaN</td>\n",
       "      <td>NaN</td>\n",
       "      <td>NaN</td>\n",
       "    </tr>\n",
       "    <tr>\n",
       "      <th>2020-01-02</th>\n",
       "      <td>-1.30</td>\n",
       "      <td>2.32</td>\n",
       "      <td>0.00</td>\n",
       "      <td>-1.17</td>\n",
       "      <td>1.70</td>\n",
       "      <td>2.76</td>\n",
       "      <td>-0.53</td>\n",
       "      <td>1.81</td>\n",
       "      <td>-0.76</td>\n",
       "    </tr>\n",
       "    <tr>\n",
       "      <th>2020-01-03</th>\n",
       "      <td>0.03</td>\n",
       "      <td>-0.17</td>\n",
       "      <td>-1.52</td>\n",
       "      <td>-0.59</td>\n",
       "      <td>-0.68</td>\n",
       "      <td>-5.94</td>\n",
       "      <td>-0.90</td>\n",
       "      <td>-1.89</td>\n",
       "      <td>0.65</td>\n",
       "    </tr>\n",
       "    <tr>\n",
       "      <th>2020-01-06</th>\n",
       "      <td>1.82</td>\n",
       "      <td>0.29</td>\n",
       "      <td>-1.46</td>\n",
       "      <td>-0.15</td>\n",
       "      <td>1.94</td>\n",
       "      <td>-0.02</td>\n",
       "      <td>1.00</td>\n",
       "      <td>1.04</td>\n",
       "      <td>0.46</td>\n",
       "    </tr>\n",
       "    <tr>\n",
       "      <th>2020-01-07</th>\n",
       "      <td>1.00</td>\n",
       "      <td>1.06</td>\n",
       "      <td>-0.66</td>\n",
       "      <td>0.45</td>\n",
       "      <td>-0.32</td>\n",
       "      <td>1.58</td>\n",
       "      <td>-0.07</td>\n",
       "      <td>0.82</td>\n",
       "      <td>-3.57</td>\n",
       "    </tr>\n",
       "  </tbody>\n",
       "</table>\n",
       "</div>"
      ],
      "text/plain": [
       "           Adj Close                                                \n",
       "                ATVI    BA   CMA   CNP   GPN   MPC   NEM   PKI   STZ\n",
       "Date                                                                \n",
       "2019-12-31       NaN   NaN   NaN   NaN   NaN   NaN   NaN   NaN   NaN\n",
       "2020-01-02     -1.30  2.32  0.00 -1.17  1.70  2.76 -0.53  1.81 -0.76\n",
       "2020-01-03      0.03 -0.17 -1.52 -0.59 -0.68 -5.94 -0.90 -1.89  0.65\n",
       "2020-01-06      1.82  0.29 -1.46 -0.15  1.94 -0.02  1.00  1.04  0.46\n",
       "2020-01-07      1.00  1.06 -0.66  0.45 -0.32  1.58 -0.07  0.82 -3.57"
      ]
     },
     "execution_count": 23,
     "metadata": {},
     "output_type": "execute_result"
    }
   ],
   "source": [
    "# Выделение скорректированой цены закрытия\n",
    "all_adj_close_now = stock_now[['Adj Close']]\n",
    "all_adj_close_now.round(2).head()\n",
    "all_returns_now = all_adj_close_now.pct_change()\n",
    "all_returns_now.round(4).head()*100"
   ]
  },
  {
   "cell_type": "code",
   "execution_count": 47,
   "metadata": {},
   "outputs": [],
   "source": [
    "result_port_now = pd.DataFrame(index = ['Return', 'Std_Dev', 'Sharpo'])"
   ]
  },
  {
   "cell_type": "code",
   "execution_count": 55,
   "metadata": {},
   "outputs": [],
   "source": [
    "mean_returns_now = all_returns_now.mean()\n",
    "cov_matrix_now = all_returns_now.cov()\n",
    "\n",
    "# Данные по роботу сейчас\n",
    "portfolio_return_robot_now = np.sum(mean_returns_now * robot)\n",
    "portfolio_std_dev_robot_now = np.sqrt(np.dot(robot.T,np.dot(cov_matrix_now, robot)))\n",
    "sharpo_robot = portfolio_return_robot_now/portfolio_std_dev_robot_now\n",
    "result_port_now['ROBOT'] = [portfolio_return_robot_now, portfolio_std_dev_robot_now, sharpo_robot]"
   ]
  },
  {
   "cell_type": "code",
   "execution_count": 56,
   "metadata": {},
   "outputs": [],
   "source": [
    "# Данные по максимальному портфелю Шарпо сейчас\n",
    "portfolio_return_sharpe_now = np.sum(mean_returns_now * max_sharpe[3:].values)\n",
    "portfolio_std_dev_sharpe_now = np.sqrt(np.dot(max_sharpe[3:].values.T,np.dot(cov_matrix_now, max_sharpe[3:].values)))\n",
    "sharpo_sharpo_now = portfolio_return_sharpe_now/portfolio_std_dev_sharpe_now\n",
    "result_port_now['SHARPO'] = [portfolio_return_sharpe_now, portfolio_std_dev_sharpe_now, sharpo_sharpo_now]"
   ]
  },
  {
   "cell_type": "code",
   "execution_count": 57,
   "metadata": {},
   "outputs": [],
   "source": [
    "# Данные по минимальному стандартному отклонению сейчас\n",
    "portfolio_return_std_now = np.sum(mean_returns_now * min_std[3:].values)\n",
    "portfolio_std_std_now = np.sqrt(np.dot(min_std[3:].values.T,np.dot(cov_matrix_now, min_std[3:].values)))\n",
    "sharpo_std_now = portfolio_return_std_now/portfolio_std_std_now\n",
    "result_port_now['STD'] = [portfolio_return_std_now, portfolio_std_std_now, sharpo_std_now]"
   ]
  },
  {
   "cell_type": "code",
   "execution_count": 58,
   "metadata": {},
   "outputs": [
    {
     "data": {
      "text/html": [
       "<div>\n",
       "<style scoped>\n",
       "    .dataframe tbody tr th:only-of-type {\n",
       "        vertical-align: middle;\n",
       "    }\n",
       "\n",
       "    .dataframe tbody tr th {\n",
       "        vertical-align: top;\n",
       "    }\n",
       "\n",
       "    .dataframe thead th {\n",
       "        text-align: right;\n",
       "    }\n",
       "</style>\n",
       "<table border=\"1\" class=\"dataframe\">\n",
       "  <thead>\n",
       "    <tr style=\"text-align: right;\">\n",
       "      <th></th>\n",
       "      <th>ROBOT</th>\n",
       "      <th>SHARPO</th>\n",
       "      <th>STD</th>\n",
       "    </tr>\n",
       "  </thead>\n",
       "  <tbody>\n",
       "    <tr>\n",
       "      <th>Return</th>\n",
       "      <td>-0.005397</td>\n",
       "      <td>-0.005418</td>\n",
       "      <td>-0.004082</td>\n",
       "    </tr>\n",
       "    <tr>\n",
       "      <th>Std_Dev</th>\n",
       "      <td>0.043661</td>\n",
       "      <td>0.048224</td>\n",
       "      <td>0.041145</td>\n",
       "    </tr>\n",
       "    <tr>\n",
       "      <th>Sharpo</th>\n",
       "      <td>-0.123615</td>\n",
       "      <td>-0.112360</td>\n",
       "      <td>-0.099215</td>\n",
       "    </tr>\n",
       "  </tbody>\n",
       "</table>\n",
       "</div>"
      ],
      "text/plain": [
       "            ROBOT    SHARPO       STD\n",
       "Return  -0.005397 -0.005418 -0.004082\n",
       "Std_Dev  0.043661  0.048224  0.041145\n",
       "Sharpo  -0.123615 -0.112360 -0.099215"
      ]
     },
     "execution_count": 58,
     "metadata": {},
     "output_type": "execute_result"
    }
   ],
   "source": [
    "result_port_now"
   ]
  },
  {
   "cell_type": "code",
   "execution_count": 59,
   "metadata": {},
   "outputs": [],
   "source": [
    "simulation_res_now = np.zeros((4+len(ticker)-1,num_iterations))\n",
    "\n",
    "for i in range(num_iterations):\n",
    "        #Выбрать случайные веса и нормализовать, чтоб сумма равнялась 1\n",
    "        weights = np.array(np.random.random(9))\n",
    "        weights /= np.sum(weights)\n",
    "        \n",
    "        #Вычислить доходность и стандартное отклонение\n",
    "        portfolio_return_now = np.sum(mean_returns_now * weights)\n",
    "        portfolio_std_dev_now = np.sqrt(np.dot(weights.T,np.dot(cov_matrix_now, weights)))\n",
    "        \n",
    "        #Сохранить все полученные значения в массив\n",
    "        simulation_res_now[0,i] = portfolio_return_now\n",
    "        simulation_res_now[1,i] = portfolio_std_dev_now\n",
    "        \n",
    "        #Вычислить коэффициент Шарпа и сохранить\n",
    "        simulation_res_now[2,i] = simulation_res_now[0,i] / simulation_res_now[1,i]\n",
    "        \n",
    "        #Сохранить веса\n",
    "        for j in range(len(weights)):\n",
    "                simulation_res_now[j+3,i] = weights[j]"
   ]
  },
  {
   "cell_type": "code",
   "execution_count": 60,
   "metadata": {},
   "outputs": [
    {
     "name": "stdout",
     "output_type": "stream",
     "text": [
      "        ret     stdev    sharpe      ATVI        BA       CNP       CMA  \\\n",
      "0 -0.005748  0.041795 -0.137533  0.039872  0.065957  0.115840  0.121903   \n",
      "1 -0.005814  0.044785 -0.129821  0.034950  0.123516  0.138681  0.063525   \n",
      "2 -0.003585  0.036904 -0.097134  0.211161  0.076218  0.116893  0.077006   \n",
      "3 -0.003069  0.036864 -0.083249  0.197284  0.090503  0.071887  0.029193   \n",
      "4 -0.005238  0.042540 -0.123142  0.130371  0.169478  0.132083  0.146578   \n",
      "\n",
      "        STZ       GPN       MPC       NEM       PKI  \n",
      "0  0.005138  0.184845  0.146053  0.126490  0.193902  \n",
      "1  0.170662  0.183458  0.151732  0.125965  0.007511  \n",
      "2  0.161394  0.023549  0.113429  0.169398  0.050953  \n",
      "3  0.177521  0.025242  0.130978  0.078972  0.198421  \n",
      "4  0.090894  0.046867  0.088442  0.170388  0.024897  \n",
      "           ret     stdev    sharpe      ATVI        BA       CNP       CMA  \\\n",
      "9995 -0.005070  0.042508 -0.119275  0.113120  0.021864  0.120988  0.180097   \n",
      "9996 -0.005596  0.042754 -0.130891  0.062368  0.109295  0.087553  0.135065   \n",
      "9997 -0.004915  0.042933 -0.114480  0.028187  0.184492  0.160255  0.129451   \n",
      "9998 -0.004248  0.042397 -0.100195  0.131332  0.172767  0.059104  0.029467   \n",
      "9999 -0.005191  0.041173 -0.126077  0.204416  0.024473  0.187052  0.013460   \n",
      "\n",
      "           STZ       GPN       MPC       NEM       PKI  \n",
      "9995  0.199935  0.094537  0.009681  0.128009  0.131770  \n",
      "9996  0.104274  0.125666  0.046177  0.209138  0.120464  \n",
      "9997  0.039093  0.025154  0.249269  0.029339  0.154760  \n",
      "9998  0.202950  0.111410  0.161806  0.042220  0.088944  \n",
      "9999  0.175962  0.163990  0.045856  0.063398  0.121393  \n"
     ]
    }
   ],
   "source": [
    "sim_frame_now = pd.DataFrame(simulation_res_now.T,columns=['ret','stdev','sharpe',ticker[0],ticker[1],ticker[2],ticker[3],\n",
    "                                                  ticker[4],ticker[5],ticker[6],ticker[7],ticker[8]])\n",
    "print (sim_frame_now.head())\n",
    "print (sim_frame_now.tail())"
   ]
  },
  {
   "cell_type": "code",
   "execution_count": 72,
   "metadata": {},
   "outputs": [
    {
     "data": {
      "image/png": "[encoded data removed]",
      "text/plain": [
       "<Figure size 720x720 with 1 Axes>"
      ]
     },
     "metadata": {
      "needs_background": "light"
     },
     "output_type": "display_data"
    }
   ],
   "source": [
    "fig, ax = plt.subplots(figsize=(10, 10))\n",
    "\n",
    "#Create a scatter plot coloured by various Sharpe Ratios with standard deviation on the x-axis and returns on the y-axis\n",
    "plt.scatter(sim_frame_now.stdev,sim_frame_now.ret,c=sim_frame_now.sharpe,cmap='RdYlBu')\n",
    "plt.xlabel('Standard Deviation')\n",
    "plt.ylabel('Returns')\n",
    "#plt.ylim(-0.002,.0015)\n",
    "#plt.xlim(-0.007,0.001)\n",
    "\n",
    "#Plot a red star to highlight position of the portfolio with highest Sharpe Ratio\n",
    "plt.scatter(portfolio_std_dev_sharpe_now, portfolio_return_sharpe_now, marker=(5,1,0),color='r',s=600)\n",
    "\n",
    "#Plot a blue star to highlight position of the portfolio with minimum Variance\n",
    "plt.scatter(portfolio_std_std_now, portfolio_return_std_now, marker=(5,1,0),color='b',s=600)\n",
    "\n",
    "#Plot a green star to highlight position of the portfolio with minimum Variance\n",
    "plt.scatter(portfolio_std_dev_robot_now, portfolio_return_robot_now, marker=(5,1,0),color='g',s=600)\n",
    "\n",
    "plt.show()"
   ]
  },
  {
   "cell_type": "code",
   "execution_count": null,
   "metadata": {},
   "outputs": [],
   "source": []
  }
 ],
 "metadata": {
  "kernelspec": {
   "display_name": "Python 3",
   "language": "python",
   "name": "python3"
  },
  "language_info": {
   "codemirror_mode": {
    "name": "ipython",
    "version": 3
   },
   "file_extension": ".py",
   "mimetype": "text/x-python",
   "name": "python",
   "nbconvert_exporter": "python",
   "pygments_lexer": "ipython3",
   "version": "3.7.6"
  }
 },
 "nbformat": 4,
 "nbformat_minor": 2
}
