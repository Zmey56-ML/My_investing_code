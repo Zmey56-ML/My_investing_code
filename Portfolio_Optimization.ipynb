{
 "cells": [
  {
   "cell_type": "markdown",
   "metadata": {},
   "source": [
    "В этом посте будет рассмотрено то, как оптимизировать портфель путем изменения весов входящих в него активов. Под оптимизацией портфеля понимантся такое соотношение весов, которое будет уловлетворять одному из условий:"
   ]
  },
  {
   "cell_type": "markdown",
   "metadata": {},
   "source": [
    "* Портфель с минимальным уровнем риском при желаемой доходности;\n",
    "* Портфель с максимальной доходностью при установленном риске;\n",
    "* Портфель с максимальным значением доходности"
   ]
  },
  {
   "cell_type": "markdown",
   "metadata": {},
   "source": [
    "В данном посте будут рассмотрены девять акций, которые предлагает торговый робот одного из брокеров и в конце будет рассмотрено - совпадают ли веса. Так как имеется значение показателя на начало января - можно будет приблизительно оценить как сильно отличается доходность и риски робота от выполненного ручного (т.е. при помощи кода на python) расчета. \n",
    "\n",
    "После недолгого анализа робот мне предложил сформировать портфель из девяти акций: 'ATVI','BA','CNP','CMA', 'STZ','GPN','MPC','NEM' и 'PKI'. Так как рассматриваем инвестирование, а не трейдинг - будем рассматривать временной горизонт три года. Соответственно и данне возьмем за этот период."
   ]
  },
  {
   "cell_type": "code",
   "execution_count": 1,
   "metadata": {},
   "outputs": [],
   "source": [
    "#Загружаю библиотеки\n",
    "\n",
    "import pandas as pd\n",
    "import yfinance as yf\n",
    "import numpy as np\n",
    "import matplotlib.pyplot as plt"
   ]
  },
  {
   "cell_type": "code",
   "execution_count": 2,
   "metadata": {},
   "outputs": [],
   "source": [
    "ticker = ['ATVI','BA','CNP','CMA', 'STZ','GPN','MPC','NEM', 'PKI']"
   ]
  },
  {
   "cell_type": "code",
   "execution_count": 25,
   "metadata": {},
   "outputs": [
    {
     "name": "stdout",
     "output_type": "stream",
     "text": [
      "[*********************100%***********************]  9 of 9 downloaded\n"
     ]
    }
   ],
   "source": [
    "stock = yf.download(ticker,'2017-01-01', '2019-01-31')"
   ]
  },
  {
   "cell_type": "markdown",
   "metadata": {},
   "source": [
    "Веса всех акций, входящих в портфель должны составлять единицу. В начале будут взяты те, которые предложил робот. Будет расчитана доходность и стандартное отклонение портфеля. Затем будет использована  симуляция Монте-Карло для получения оптимальных весов. "
   ]
  },
  {
   "cell_type": "markdown",
   "metadata": {},
   "source": [
    "**Симуляция Монте-Карло**\n",
    "\n",
    "Приведу краткое описание, которое приводиться в одном из постов - как применяется метод Монте -Карлоя для подбора оптимального портфеля. \n",
    "\n",
    "Сначала акциям задаются случайные веса. Производиться расчет доходности и стандартного отклонения и сохраняем его. Потом случайным образом меняются веса (главное не забывать, что их сумма должна составлять единицу)и повторяется предыидущих шаг - расчет и сохранение полученного значения. Количество итераций зависит от времени, машинки для расчета и риска, который готов принять инвестор. В этом посте попробуем провести 10000 расчетов для выявления портфеля, который будет удовлетворять любому из трех условий.\n",
    "\n",
    "**Оптимизация портфеля на Python**"
   ]
  },
  {
   "cell_type": "code",
   "execution_count": 26,
   "metadata": {},
   "outputs": [
    {
     "data": {
      "text/html": [
       "<div>\n",
       "<style scoped>\n",
       "    .dataframe tbody tr th:only-of-type {\n",
       "        vertical-align: middle;\n",
       "    }\n",
       "\n",
       "    .dataframe tbody tr th {\n",
       "        vertical-align: top;\n",
       "    }\n",
       "\n",
       "    .dataframe thead tr th {\n",
       "        text-align: left;\n",
       "    }\n",
       "\n",
       "    .dataframe thead tr:last-of-type th {\n",
       "        text-align: right;\n",
       "    }\n",
       "</style>\n",
       "<table border=\"1\" class=\"dataframe\">\n",
       "  <thead>\n",
       "    <tr>\n",
       "      <th></th>\n",
       "      <th colspan=\"9\" halign=\"left\">Adj Close</th>\n",
       "    </tr>\n",
       "    <tr>\n",
       "      <th></th>\n",
       "      <th>ATVI</th>\n",
       "      <th>BA</th>\n",
       "      <th>CMA</th>\n",
       "      <th>CNP</th>\n",
       "      <th>GPN</th>\n",
       "      <th>MPC</th>\n",
       "      <th>NEM</th>\n",
       "      <th>PKI</th>\n",
       "      <th>STZ</th>\n",
       "    </tr>\n",
       "    <tr>\n",
       "      <th>Date</th>\n",
       "      <th></th>\n",
       "      <th></th>\n",
       "      <th></th>\n",
       "      <th></th>\n",
       "      <th></th>\n",
       "      <th></th>\n",
       "      <th></th>\n",
       "      <th></th>\n",
       "      <th></th>\n",
       "    </tr>\n",
       "  </thead>\n",
       "  <tbody>\n",
       "    <tr>\n",
       "      <th>2017-01-03</th>\n",
       "      <td>35.94</td>\n",
       "      <td>145.53</td>\n",
       "      <td>62.92</td>\n",
       "      <td>21.58</td>\n",
       "      <td>70.27</td>\n",
       "      <td>47.81</td>\n",
       "      <td>32.28</td>\n",
       "      <td>52.30</td>\n",
       "      <td>148.24</td>\n",
       "    </tr>\n",
       "    <tr>\n",
       "      <th>2017-01-04</th>\n",
       "      <td>36.65</td>\n",
       "      <td>147.06</td>\n",
       "      <td>63.45</td>\n",
       "      <td>21.77</td>\n",
       "      <td>72.89</td>\n",
       "      <td>46.28</td>\n",
       "      <td>32.59</td>\n",
       "      <td>52.61</td>\n",
       "      <td>151.34</td>\n",
       "    </tr>\n",
       "    <tr>\n",
       "      <th>2017-01-05</th>\n",
       "      <td>37.22</td>\n",
       "      <td>147.15</td>\n",
       "      <td>63.45</td>\n",
       "      <td>21.77</td>\n",
       "      <td>73.18</td>\n",
       "      <td>46.11</td>\n",
       "      <td>34.09</td>\n",
       "      <td>52.04</td>\n",
       "      <td>140.58</td>\n",
       "    </tr>\n",
       "    <tr>\n",
       "      <th>2017-01-06</th>\n",
       "      <td>37.19</td>\n",
       "      <td>147.51</td>\n",
       "      <td>64.12</td>\n",
       "      <td>22.26</td>\n",
       "      <td>74.21</td>\n",
       "      <td>45.50</td>\n",
       "      <td>33.02</td>\n",
       "      <td>52.42</td>\n",
       "      <td>143.15</td>\n",
       "    </tr>\n",
       "    <tr>\n",
       "      <th>2017-01-09</th>\n",
       "      <td>36.98</td>\n",
       "      <td>146.79</td>\n",
       "      <td>63.45</td>\n",
       "      <td>21.83</td>\n",
       "      <td>79.53</td>\n",
       "      <td>44.67</td>\n",
       "      <td>32.96</td>\n",
       "      <td>52.85</td>\n",
       "      <td>143.95</td>\n",
       "    </tr>\n",
       "  </tbody>\n",
       "</table>\n",
       "</div>"
      ],
      "text/plain": [
       "           Adj Close                                                          \n",
       "                ATVI      BA    CMA    CNP    GPN    MPC    NEM    PKI     STZ\n",
       "Date                                                                          \n",
       "2017-01-03     35.94  145.53  62.92  21.58  70.27  47.81  32.28  52.30  148.24\n",
       "2017-01-04     36.65  147.06  63.45  21.77  72.89  46.28  32.59  52.61  151.34\n",
       "2017-01-05     37.22  147.15  63.45  21.77  73.18  46.11  34.09  52.04  140.58\n",
       "2017-01-06     37.19  147.51  64.12  22.26  74.21  45.50  33.02  52.42  143.15\n",
       "2017-01-09     36.98  146.79  63.45  21.83  79.53  44.67  32.96  52.85  143.95"
      ]
     },
     "execution_count": 26,
     "metadata": {},
     "output_type": "execute_result"
    }
   ],
   "source": [
    "# Выделение скорректированой цены закрытия\n",
    "all_adj_close = stock[['Adj Close']]\n",
    "all_adj_close.round(2).head()"
   ]
  },
  {
   "cell_type": "markdown",
   "metadata": {},
   "source": [
    "Дальше необходимо получить ежедневную доходность по каждой акции"
   ]
  },
  {
   "cell_type": "code",
   "execution_count": 28,
   "metadata": {},
   "outputs": [],
   "source": [
    "all_returns = all_adj_close.pct_change()"
   ]
  },
  {
   "cell_type": "code",
   "execution_count": 29,
   "metadata": {},
   "outputs": [
    {
     "data": {
      "text/html": [
       "<div>\n",
       "<style scoped>\n",
       "    .dataframe tbody tr th:only-of-type {\n",
       "        vertical-align: middle;\n",
       "    }\n",
       "\n",
       "    .dataframe tbody tr th {\n",
       "        vertical-align: top;\n",
       "    }\n",
       "\n",
       "    .dataframe thead tr th {\n",
       "        text-align: left;\n",
       "    }\n",
       "\n",
       "    .dataframe thead tr:last-of-type th {\n",
       "        text-align: right;\n",
       "    }\n",
       "</style>\n",
       "<table border=\"1\" class=\"dataframe\">\n",
       "  <thead>\n",
       "    <tr>\n",
       "      <th></th>\n",
       "      <th colspan=\"9\" halign=\"left\">Adj Close</th>\n",
       "    </tr>\n",
       "    <tr>\n",
       "      <th></th>\n",
       "      <th>ATVI</th>\n",
       "      <th>BA</th>\n",
       "      <th>CMA</th>\n",
       "      <th>CNP</th>\n",
       "      <th>GPN</th>\n",
       "      <th>MPC</th>\n",
       "      <th>NEM</th>\n",
       "      <th>PKI</th>\n",
       "      <th>STZ</th>\n",
       "    </tr>\n",
       "    <tr>\n",
       "      <th>Date</th>\n",
       "      <th></th>\n",
       "      <th></th>\n",
       "      <th></th>\n",
       "      <th></th>\n",
       "      <th></th>\n",
       "      <th></th>\n",
       "      <th></th>\n",
       "      <th></th>\n",
       "      <th></th>\n",
       "    </tr>\n",
       "  </thead>\n",
       "  <tbody>\n",
       "    <tr>\n",
       "      <th>2017-01-03</th>\n",
       "      <td>NaN</td>\n",
       "      <td>NaN</td>\n",
       "      <td>NaN</td>\n",
       "      <td>NaN</td>\n",
       "      <td>NaN</td>\n",
       "      <td>NaN</td>\n",
       "      <td>NaN</td>\n",
       "      <td>NaN</td>\n",
       "      <td>NaN</td>\n",
       "    </tr>\n",
       "    <tr>\n",
       "      <th>2017-01-04</th>\n",
       "      <td>1.98</td>\n",
       "      <td>1.05</td>\n",
       "      <td>0.84</td>\n",
       "      <td>0.88</td>\n",
       "      <td>3.73</td>\n",
       "      <td>-3.20</td>\n",
       "      <td>0.96</td>\n",
       "      <td>0.59</td>\n",
       "      <td>2.09</td>\n",
       "    </tr>\n",
       "    <tr>\n",
       "      <th>2017-01-05</th>\n",
       "      <td>1.56</td>\n",
       "      <td>0.06</td>\n",
       "      <td>0.00</td>\n",
       "      <td>0.00</td>\n",
       "      <td>0.40</td>\n",
       "      <td>-0.37</td>\n",
       "      <td>4.60</td>\n",
       "      <td>-1.08</td>\n",
       "      <td>-7.11</td>\n",
       "    </tr>\n",
       "    <tr>\n",
       "      <th>2017-01-06</th>\n",
       "      <td>-0.08</td>\n",
       "      <td>0.24</td>\n",
       "      <td>1.06</td>\n",
       "      <td>2.25</td>\n",
       "      <td>1.41</td>\n",
       "      <td>-1.32</td>\n",
       "      <td>-3.14</td>\n",
       "      <td>0.73</td>\n",
       "      <td>1.83</td>\n",
       "    </tr>\n",
       "    <tr>\n",
       "      <th>2017-01-09</th>\n",
       "      <td>-0.56</td>\n",
       "      <td>-0.49</td>\n",
       "      <td>-1.04</td>\n",
       "      <td>-1.93</td>\n",
       "      <td>7.17</td>\n",
       "      <td>-1.82</td>\n",
       "      <td>-0.18</td>\n",
       "      <td>0.82</td>\n",
       "      <td>0.56</td>\n",
       "    </tr>\n",
       "  </tbody>\n",
       "</table>\n",
       "</div>"
      ],
      "text/plain": [
       "           Adj Close                                                \n",
       "                ATVI    BA   CMA   CNP   GPN   MPC   NEM   PKI   STZ\n",
       "Date                                                                \n",
       "2017-01-03       NaN   NaN   NaN   NaN   NaN   NaN   NaN   NaN   NaN\n",
       "2017-01-04      1.98  1.05  0.84  0.88  3.73 -3.20  0.96  0.59  2.09\n",
       "2017-01-05      1.56  0.06  0.00  0.00  0.40 -0.37  4.60 -1.08 -7.11\n",
       "2017-01-06     -0.08  0.24  1.06  2.25  1.41 -1.32 -3.14  0.73  1.83\n",
       "2017-01-09     -0.56 -0.49 -1.04 -1.93  7.17 -1.82 -0.18  0.82  0.56"
      ]
     },
     "execution_count": 29,
     "metadata": {},
     "output_type": "execute_result"
    }
   ],
   "source": [
    "all_returns.round(4).head()*100"
   ]
  },
  {
   "cell_type": "markdown",
   "metadata": {},
   "source": [
    "Теперь можно вычислить доходность каждой акции и построить ковариационную матрицу для того чтобы оценить силу взаимосвязи элементов. "
   ]
  },
  {
   "cell_type": "code",
   "execution_count": 35,
   "metadata": {},
   "outputs": [
    {
     "name": "stdout",
     "output_type": "stream",
     "text": [
      "Adj Close  ATVI    0.000712\n",
      "           BA      0.001957\n",
      "           CMA     0.000484\n",
      "           CNP     0.000595\n",
      "           GPN     0.001025\n",
      "           MPC     0.000647\n",
      "           NEM     0.000140\n",
      "           PKI     0.001144\n",
      "           STZ     0.000334\n",
      "dtype: float64\n",
      "               Adj Close                                                    \\\n",
      "                    ATVI        BA       CMA       CNP       GPN       MPC   \n",
      "Adj Close ATVI  0.000485  0.000135  0.000071  0.000029  0.000148  0.000110   \n",
      "          BA    0.000135  0.000268  0.000091  0.000027  0.000105  0.000109   \n",
      "          CMA   0.000071  0.000091  0.000216  0.000009  0.000072  0.000092   \n",
      "          CNP   0.000029  0.000027  0.000009  0.000099  0.000021  0.000019   \n",
      "          GPN   0.000148  0.000105  0.000072  0.000021  0.000217  0.000084   \n",
      "          MPC   0.000110  0.000109  0.000092  0.000019  0.000084  0.000282   \n",
      "          NEM   0.000013  0.000022 -0.000016  0.000012  0.000011  0.000032   \n",
      "          PKI   0.000132  0.000109  0.000076  0.000027  0.000123  0.000091   \n",
      "          STZ   0.000063  0.000054  0.000028  0.000025  0.000065  0.000046   \n",
      "\n",
      "                                              \n",
      "                     NEM       PKI       STZ  \n",
      "Adj Close ATVI  0.000013  0.000132  0.000063  \n",
      "          BA    0.000022  0.000109  0.000054  \n",
      "          CMA  -0.000016  0.000076  0.000028  \n",
      "          CNP   0.000012  0.000027  0.000025  \n",
      "          GPN   0.000011  0.000123  0.000065  \n",
      "          MPC   0.000032  0.000091  0.000046  \n",
      "          NEM   0.000277  0.000020 -0.000001  \n",
      "          PKI   0.000020  0.000207  0.000057  \n",
      "          STZ  -0.000001  0.000057  0.000201  \n"
     ]
    }
   ],
   "source": [
    "mean_returns = all_returns.mean()\n",
    "cov_matrix = all_returns.cov()\n",
    "print (mean_returns)\n",
    "print (cov_matrix)"
   ]
  },
  {
   "cell_type": "code",
   "execution_count": null,
   "metadata": {},
   "outputs": [],
   "source": []
  }
 ],
 "metadata": {
  "kernelspec": {
   "display_name": "Python 3",
   "language": "python",
   "name": "python3"
  },
  "language_info": {
   "codemirror_mode": {
    "name": "ipython",
    "version": 3
   },
   "file_extension": ".py",
   "mimetype": "text/x-python",
   "name": "python",
   "nbconvert_exporter": "python",
   "pygments_lexer": "ipython3",
   "version": "3.7.3"
  }
 },
 "nbformat": 4,
 "nbformat_minor": 2
}
