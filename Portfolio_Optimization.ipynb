{
 "cells": [
  {
   "cell_type": "markdown",
   "metadata": {},
   "source": [
    "В этом посте будет рассмотрено то, как оптимизировать портфель путем изменения весов входящих в него активов. Под оптимизацией портфеля понимантся такое соотношение весов, которое будет уловлетворять одному из условий:"
   ]
  },
  {
   "cell_type": "markdown",
   "metadata": {},
   "source": [
    "* Портфель с минимальным уровнем риском при желаемой доходности;\n",
    "* Портфель с максимальной доходностью при установленном риске;\n",
    "* Портфель с максимальным значением доходности"
   ]
  },
  {
   "cell_type": "markdown",
   "metadata": {},
   "source": [
    "В данном посте будут рассмотрены девять акций, которые предлагает торговый робот одного из брокеров и в конце будет рассмотрено - совпадают ли веса. Так как имеется значение показателя на начало января - можно будет приблизительно оценить как сильно отличается доходность и риски робота от выполненного ручного (т.е. при помощи кода на python) расчета. \n",
    "\n",
    "После недолгого анализа робот мне предложил сформировать портфель из девяти акций: 'ATVI','BA','CNP','CMA', 'STZ','GPN','MPC','NEM' и 'PKI'. Так как рассматриваем инвестирование, а не трейдинг - будем рассматривать временной горизонт три года. Соответственно и данне возьмем за этот период."
   ]
  },
  {
   "cell_type": "code",
   "execution_count": 1,
   "metadata": {},
   "outputs": [],
   "source": [
    "#Загружаю библиотеки\n",
    "\n",
    "import pandas as pd\n",
    "import yfinance as yf\n",
    "import numpy as np\n",
    "import matplotlib.pyplot as plt"
   ]
  },
  {
   "cell_type": "code",
   "execution_count": 2,
   "metadata": {},
   "outputs": [],
   "source": [
    "ticker = ['ATVI','BA','CNP','CMA', 'STZ','GPN','MPC','NEM', 'PKI']"
   ]
  },
  {
   "cell_type": "code",
   "execution_count": 3,
   "metadata": {},
   "outputs": [
    {
     "name": "stdout",
     "output_type": "stream",
     "text": [
      "[*********************100%***********************]  9 of 9 downloaded\n"
     ]
    }
   ],
   "source": [
    "stock = yf.download(ticker,'2017-01-01', '2019-01-31')"
   ]
  },
  {
   "cell_type": "markdown",
   "metadata": {},
   "source": [
    "Веса всех акций, входящих в портфель должны составлять единицу. В начале будут взяты те, которые предложил робот. Будет расчитана доходность и стандартное отклонение портфеля. Затем будет использована  симуляция Монте-Карло для получения оптимальных весов. "
   ]
  },
  {
   "cell_type": "markdown",
   "metadata": {},
   "source": [
    "**Симуляция Монте-Карло**\n",
    "\n",
    "Приведу краткое описание, которое приводиться в одном из постов, о том, как применяется метод Монте -Карлоя для подбора оптимального портфеля. \n",
    "\n",
    "Сначала акциям задаются случайные веса. Производиться расчет доходности и стандартного отклонения и сохраняем его. Потом случайным образом меняются веса (главное не забывать, что их сумма должна составлять единицу)и повторяется предыидущих шаг - расчет и сохранение полученного значения. Количество итераций зависит от времени, машинки для расчета и риска, который готов принять инвестор. В этом посте попробуем провести 10000 расчетов для выявления портфеля, который будет удовлетворять любому из трех условий.\n",
    "\n",
    "**Оптимизация портфеля на Python**"
   ]
  },
  {
   "cell_type": "code",
   "execution_count": 4,
   "metadata": {},
   "outputs": [
    {
     "data": {
      "text/html": [
       "<div>\n",
       "<style scoped>\n",
       "    .dataframe tbody tr th:only-of-type {\n",
       "        vertical-align: middle;\n",
       "    }\n",
       "\n",
       "    .dataframe tbody tr th {\n",
       "        vertical-align: top;\n",
       "    }\n",
       "\n",
       "    .dataframe thead tr th {\n",
       "        text-align: left;\n",
       "    }\n",
       "\n",
       "    .dataframe thead tr:last-of-type th {\n",
       "        text-align: right;\n",
       "    }\n",
       "</style>\n",
       "<table border=\"1\" class=\"dataframe\">\n",
       "  <thead>\n",
       "    <tr>\n",
       "      <th></th>\n",
       "      <th colspan=\"9\" halign=\"left\">Adj Close</th>\n",
       "    </tr>\n",
       "    <tr>\n",
       "      <th></th>\n",
       "      <th>ATVI</th>\n",
       "      <th>BA</th>\n",
       "      <th>CMA</th>\n",
       "      <th>CNP</th>\n",
       "      <th>GPN</th>\n",
       "      <th>MPC</th>\n",
       "      <th>NEM</th>\n",
       "      <th>PKI</th>\n",
       "      <th>STZ</th>\n",
       "    </tr>\n",
       "    <tr>\n",
       "      <th>Date</th>\n",
       "      <th></th>\n",
       "      <th></th>\n",
       "      <th></th>\n",
       "      <th></th>\n",
       "      <th></th>\n",
       "      <th></th>\n",
       "      <th></th>\n",
       "      <th></th>\n",
       "      <th></th>\n",
       "    </tr>\n",
       "  </thead>\n",
       "  <tbody>\n",
       "    <tr>\n",
       "      <th>2017-01-03</th>\n",
       "      <td>35.71</td>\n",
       "      <td>145.53</td>\n",
       "      <td>62.92</td>\n",
       "      <td>21.58</td>\n",
       "      <td>70.27</td>\n",
       "      <td>47.81</td>\n",
       "      <td>32.28</td>\n",
       "      <td>52.25</td>\n",
       "      <td>148.24</td>\n",
       "    </tr>\n",
       "    <tr>\n",
       "      <th>2017-01-04</th>\n",
       "      <td>36.41</td>\n",
       "      <td>147.06</td>\n",
       "      <td>63.45</td>\n",
       "      <td>21.77</td>\n",
       "      <td>72.89</td>\n",
       "      <td>46.28</td>\n",
       "      <td>32.59</td>\n",
       "      <td>52.56</td>\n",
       "      <td>151.34</td>\n",
       "    </tr>\n",
       "    <tr>\n",
       "      <th>2017-01-05</th>\n",
       "      <td>36.97</td>\n",
       "      <td>147.15</td>\n",
       "      <td>63.45</td>\n",
       "      <td>21.77</td>\n",
       "      <td>73.18</td>\n",
       "      <td>46.11</td>\n",
       "      <td>34.09</td>\n",
       "      <td>52.00</td>\n",
       "      <td>140.58</td>\n",
       "    </tr>\n",
       "    <tr>\n",
       "      <th>2017-01-06</th>\n",
       "      <td>36.94</td>\n",
       "      <td>147.51</td>\n",
       "      <td>64.12</td>\n",
       "      <td>22.26</td>\n",
       "      <td>74.21</td>\n",
       "      <td>45.50</td>\n",
       "      <td>33.02</td>\n",
       "      <td>52.37</td>\n",
       "      <td>143.15</td>\n",
       "    </tr>\n",
       "    <tr>\n",
       "      <th>2017-01-09</th>\n",
       "      <td>36.74</td>\n",
       "      <td>146.79</td>\n",
       "      <td>63.45</td>\n",
       "      <td>21.83</td>\n",
       "      <td>79.53</td>\n",
       "      <td>44.67</td>\n",
       "      <td>32.96</td>\n",
       "      <td>52.81</td>\n",
       "      <td>143.95</td>\n",
       "    </tr>\n",
       "  </tbody>\n",
       "</table>\n",
       "</div>"
      ],
      "text/plain": [
       "           Adj Close                                                          \n",
       "                ATVI      BA    CMA    CNP    GPN    MPC    NEM    PKI     STZ\n",
       "Date                                                                          \n",
       "2017-01-03     35.71  145.53  62.92  21.58  70.27  47.81  32.28  52.25  148.24\n",
       "2017-01-04     36.41  147.06  63.45  21.77  72.89  46.28  32.59  52.56  151.34\n",
       "2017-01-05     36.97  147.15  63.45  21.77  73.18  46.11  34.09  52.00  140.58\n",
       "2017-01-06     36.94  147.51  64.12  22.26  74.21  45.50  33.02  52.37  143.15\n",
       "2017-01-09     36.74  146.79  63.45  21.83  79.53  44.67  32.96  52.81  143.95"
      ]
     },
     "execution_count": 4,
     "metadata": {},
     "output_type": "execute_result"
    }
   ],
   "source": [
    "# Выделение скорректированой цены закрытия\n",
    "all_adj_close = stock[['Adj Close']]\n",
    "all_adj_close.round(2).head()"
   ]
  },
  {
   "cell_type": "markdown",
   "metadata": {},
   "source": [
    "Дальше необходимо получить ежедневную доходность по каждой акции"
   ]
  },
  {
   "cell_type": "code",
   "execution_count": 5,
   "metadata": {},
   "outputs": [],
   "source": [
    "all_returns = all_adj_close.pct_change()"
   ]
  },
  {
   "cell_type": "code",
   "execution_count": 6,
   "metadata": {},
   "outputs": [
    {
     "data": {
      "text/html": [
       "<div>\n",
       "<style scoped>\n",
       "    .dataframe tbody tr th:only-of-type {\n",
       "        vertical-align: middle;\n",
       "    }\n",
       "\n",
       "    .dataframe tbody tr th {\n",
       "        vertical-align: top;\n",
       "    }\n",
       "\n",
       "    .dataframe thead tr th {\n",
       "        text-align: left;\n",
       "    }\n",
       "\n",
       "    .dataframe thead tr:last-of-type th {\n",
       "        text-align: right;\n",
       "    }\n",
       "</style>\n",
       "<table border=\"1\" class=\"dataframe\">\n",
       "  <thead>\n",
       "    <tr>\n",
       "      <th></th>\n",
       "      <th colspan=\"9\" halign=\"left\">Adj Close</th>\n",
       "    </tr>\n",
       "    <tr>\n",
       "      <th></th>\n",
       "      <th>ATVI</th>\n",
       "      <th>BA</th>\n",
       "      <th>CMA</th>\n",
       "      <th>CNP</th>\n",
       "      <th>GPN</th>\n",
       "      <th>MPC</th>\n",
       "      <th>NEM</th>\n",
       "      <th>PKI</th>\n",
       "      <th>STZ</th>\n",
       "    </tr>\n",
       "    <tr>\n",
       "      <th>Date</th>\n",
       "      <th></th>\n",
       "      <th></th>\n",
       "      <th></th>\n",
       "      <th></th>\n",
       "      <th></th>\n",
       "      <th></th>\n",
       "      <th></th>\n",
       "      <th></th>\n",
       "      <th></th>\n",
       "    </tr>\n",
       "  </thead>\n",
       "  <tbody>\n",
       "    <tr>\n",
       "      <th>2017-01-03</th>\n",
       "      <td>NaN</td>\n",
       "      <td>NaN</td>\n",
       "      <td>NaN</td>\n",
       "      <td>NaN</td>\n",
       "      <td>NaN</td>\n",
       "      <td>NaN</td>\n",
       "      <td>NaN</td>\n",
       "      <td>NaN</td>\n",
       "      <td>NaN</td>\n",
       "    </tr>\n",
       "    <tr>\n",
       "      <th>2017-01-04</th>\n",
       "      <td>1.96</td>\n",
       "      <td>1.05</td>\n",
       "      <td>0.84</td>\n",
       "      <td>0.88</td>\n",
       "      <td>3.73</td>\n",
       "      <td>-3.20</td>\n",
       "      <td>0.96</td>\n",
       "      <td>0.59</td>\n",
       "      <td>2.09</td>\n",
       "    </tr>\n",
       "    <tr>\n",
       "      <th>2017-01-05</th>\n",
       "      <td>1.54</td>\n",
       "      <td>0.06</td>\n",
       "      <td>0.00</td>\n",
       "      <td>0.00</td>\n",
       "      <td>0.40</td>\n",
       "      <td>-0.37</td>\n",
       "      <td>4.60</td>\n",
       "      <td>-1.07</td>\n",
       "      <td>-7.11</td>\n",
       "    </tr>\n",
       "    <tr>\n",
       "      <th>2017-01-06</th>\n",
       "      <td>-0.08</td>\n",
       "      <td>0.24</td>\n",
       "      <td>1.06</td>\n",
       "      <td>2.25</td>\n",
       "      <td>1.41</td>\n",
       "      <td>-1.32</td>\n",
       "      <td>-3.14</td>\n",
       "      <td>0.71</td>\n",
       "      <td>1.83</td>\n",
       "    </tr>\n",
       "    <tr>\n",
       "      <th>2017-01-09</th>\n",
       "      <td>-0.54</td>\n",
       "      <td>-0.49</td>\n",
       "      <td>-1.04</td>\n",
       "      <td>-1.93</td>\n",
       "      <td>7.17</td>\n",
       "      <td>-1.82</td>\n",
       "      <td>-0.18</td>\n",
       "      <td>0.84</td>\n",
       "      <td>0.56</td>\n",
       "    </tr>\n",
       "  </tbody>\n",
       "</table>\n",
       "</div>"
      ],
      "text/plain": [
       "           Adj Close                                                \n",
       "                ATVI    BA   CMA   CNP   GPN   MPC   NEM   PKI   STZ\n",
       "Date                                                                \n",
       "2017-01-03       NaN   NaN   NaN   NaN   NaN   NaN   NaN   NaN   NaN\n",
       "2017-01-04      1.96  1.05  0.84  0.88  3.73 -3.20  0.96  0.59  2.09\n",
       "2017-01-05      1.54  0.06  0.00  0.00  0.40 -0.37  4.60 -1.07 -7.11\n",
       "2017-01-06     -0.08  0.24  1.06  2.25  1.41 -1.32 -3.14  0.71  1.83\n",
       "2017-01-09     -0.54 -0.49 -1.04 -1.93  7.17 -1.82 -0.18  0.84  0.56"
      ]
     },
     "execution_count": 6,
     "metadata": {},
     "output_type": "execute_result"
    }
   ],
   "source": [
    "all_returns.round(4).head()*100"
   ]
  },
  {
   "cell_type": "markdown",
   "metadata": {},
   "source": [
    "Теперь можно вычислить доходность каждой акции и построить ковариационную матрицу для того чтобы оценить силу взаимосвязи элементов. "
   ]
  },
  {
   "cell_type": "code",
   "execution_count": 7,
   "metadata": {},
   "outputs": [
    {
     "name": "stdout",
     "output_type": "stream",
     "text": [
      "Adj Close  ATVI    0.000711\n",
      "           BA      0.001957\n",
      "           CMA     0.000484\n",
      "           CNP     0.000595\n",
      "           GPN     0.001025\n",
      "           MPC     0.000647\n",
      "           NEM     0.000140\n",
      "           PKI     0.001144\n",
      "           STZ     0.000334\n",
      "dtype: float64\n",
      "               Adj Close                                                    \\\n",
      "                    ATVI        BA       CMA       CNP       GPN       MPC   \n",
      "Adj Close ATVI  0.000485  0.000136  0.000071  0.000030  0.000148  0.000110   \n",
      "          BA    0.000136  0.000268  0.000091  0.000027  0.000105  0.000109   \n",
      "          CMA   0.000071  0.000091  0.000216  0.000009  0.000072  0.000092   \n",
      "          CNP   0.000030  0.000027  0.000009  0.000099  0.000021  0.000019   \n",
      "          GPN   0.000148  0.000105  0.000072  0.000021  0.000217  0.000084   \n",
      "          MPC   0.000110  0.000109  0.000092  0.000019  0.000084  0.000282   \n",
      "          NEM   0.000013  0.000022 -0.000016  0.000012  0.000011  0.000032   \n",
      "          PKI   0.000132  0.000109  0.000076  0.000027  0.000123  0.000091   \n",
      "          STZ   0.000063  0.000054  0.000028  0.000025  0.000065  0.000046   \n",
      "\n",
      "                                              \n",
      "                     NEM       PKI       STZ  \n",
      "Adj Close ATVI  0.000013  0.000132  0.000063  \n",
      "          BA    0.000022  0.000109  0.000054  \n",
      "          CMA  -0.000016  0.000076  0.000028  \n",
      "          CNP   0.000012  0.000027  0.000025  \n",
      "          GPN   0.000011  0.000123  0.000065  \n",
      "          MPC   0.000032  0.000091  0.000046  \n",
      "          NEM   0.000277  0.000020 -0.000001  \n",
      "          PKI   0.000020  0.000207  0.000057  \n",
      "          STZ  -0.000001  0.000057  0.000201  \n"
     ]
    }
   ],
   "source": [
    "mean_returns = all_returns.mean()\n",
    "cov_matrix = all_returns.cov()\n",
    "print (mean_returns)\n",
    "print (cov_matrix)"
   ]
  },
  {
   "cell_type": "markdown",
   "metadata": {},
   "source": [
    "Теперь проведем расчет для первоначально предложенных весов роботом и узнаем доходность портфеля и стандартное отклонение (напоминаю, что через нее можно узнать волатильность)."
   ]
  },
  {
   "cell_type": "code",
   "execution_count": 8,
   "metadata": {},
   "outputs": [],
   "source": [
    "#предложение торгового робота\n",
    "robot = np.array([0.0441, 0.1030, 0.1086, 0.2070, 0.1525, 0.0714, 0.0647, 0.1828, 0.0661])"
   ]
  },
  {
   "cell_type": "code",
   "execution_count": 9,
   "metadata": {},
   "outputs": [],
   "source": [
    "portfolio_return_robot = np.sum(mean_returns * robot)\n",
    "portfolio_std_dev_robot = np.sqrt(np.dot(robot.T,np.dot(cov_matrix, robot)))\n",
    "sharpo_robot = portfolio_return_robot/portfolio_std_dev_robot"
   ]
  },
  {
   "cell_type": "code",
   "execution_count": 10,
   "metadata": {},
   "outputs": [],
   "source": [
    "robot_result = np.array([portfolio_return_robot, portfolio_std_dev_robot, sharpo_robot])"
   ]
  },
  {
   "cell_type": "code",
   "execution_count": 11,
   "metadata": {},
   "outputs": [],
   "source": [
    "robot_result = np.concatenate((robot_result, robot), axis=0)"
   ]
  },
  {
   "cell_type": "code",
   "execution_count": 12,
   "metadata": {},
   "outputs": [],
   "source": [
    "robot_sim_result = pd.DataFrame(robot_result, columns=['Robot'], index=['ret','stdev','sharpe',ticker[0],ticker[1],ticker[2],ticker[3],\n",
    "                                                  ticker[4],ticker[5],ticker[6],ticker[7],ticker[8]])"
   ]
  },
  {
   "cell_type": "code",
   "execution_count": 13,
   "metadata": {},
   "outputs": [
    {
     "data": {
      "text/html": [
       "<div>\n",
       "<style scoped>\n",
       "    .dataframe tbody tr th:only-of-type {\n",
       "        vertical-align: middle;\n",
       "    }\n",
       "\n",
       "    .dataframe tbody tr th {\n",
       "        vertical-align: top;\n",
       "    }\n",
       "\n",
       "    .dataframe thead th {\n",
       "        text-align: right;\n",
       "    }\n",
       "</style>\n",
       "<table border=\"1\" class=\"dataframe\">\n",
       "  <thead>\n",
       "    <tr style=\"text-align: right;\">\n",
       "      <th></th>\n",
       "      <th>Robot</th>\n",
       "    </tr>\n",
       "  </thead>\n",
       "  <tbody>\n",
       "    <tr>\n",
       "      <th>ret</th>\n",
       "      <td>0.000851</td>\n",
       "    </tr>\n",
       "    <tr>\n",
       "      <th>stdev</th>\n",
       "      <td>0.008625</td>\n",
       "    </tr>\n",
       "    <tr>\n",
       "      <th>sharpe</th>\n",
       "      <td>0.098712</td>\n",
       "    </tr>\n",
       "    <tr>\n",
       "      <th>ATVI</th>\n",
       "      <td>0.044100</td>\n",
       "    </tr>\n",
       "    <tr>\n",
       "      <th>BA</th>\n",
       "      <td>0.103000</td>\n",
       "    </tr>\n",
       "    <tr>\n",
       "      <th>CNP</th>\n",
       "      <td>0.108600</td>\n",
       "    </tr>\n",
       "    <tr>\n",
       "      <th>CMA</th>\n",
       "      <td>0.207000</td>\n",
       "    </tr>\n",
       "    <tr>\n",
       "      <th>STZ</th>\n",
       "      <td>0.152500</td>\n",
       "    </tr>\n",
       "    <tr>\n",
       "      <th>GPN</th>\n",
       "      <td>0.071400</td>\n",
       "    </tr>\n",
       "    <tr>\n",
       "      <th>MPC</th>\n",
       "      <td>0.064700</td>\n",
       "    </tr>\n",
       "    <tr>\n",
       "      <th>NEM</th>\n",
       "      <td>0.182800</td>\n",
       "    </tr>\n",
       "    <tr>\n",
       "      <th>PKI</th>\n",
       "      <td>0.066100</td>\n",
       "    </tr>\n",
       "  </tbody>\n",
       "</table>\n",
       "</div>"
      ],
      "text/plain": [
       "           Robot\n",
       "ret     0.000851\n",
       "stdev   0.008625\n",
       "sharpe  0.098712\n",
       "ATVI    0.044100\n",
       "BA      0.103000\n",
       "CNP     0.108600\n",
       "CMA     0.207000\n",
       "STZ     0.152500\n",
       "GPN     0.071400\n",
       "MPC     0.064700\n",
       "NEM     0.182800\n",
       "PKI     0.066100"
      ]
     },
     "execution_count": 13,
     "metadata": {},
     "output_type": "execute_result"
    }
   ],
   "source": [
    "robot_sim_result"
   ]
  },
  {
   "cell_type": "markdown",
   "metadata": {},
   "source": [
    "Дальше начинается перебор различных значений весов входящих акций для поиска оптимальных значений. Сначала определяется массиd, который будет содержать в себе значения каждой итерации: доходности, стандартного отклонения, коэффициента Шарпа и весов. Первоначально результирующий массив состоит только из нулей и по мере каждого шага заполняется. Количество столбцов в массиве 12 (доходность, стандартное отклонение, коэффициент Шарпа и 9 весов акций). Соответственно с изменением количества инструментов размерность будет меняться и для этого будет использоваться функция LEN. Ну а количество строк соответствует числу интераций."
   ]
  },
  {
   "cell_type": "code",
   "execution_count": 14,
   "metadata": {},
   "outputs": [],
   "source": [
    "#создаем массив из нулей\n",
    "num_iterations = 10000\n",
    "simulation_res = np.zeros((4+len(ticker)-1,num_iterations))"
   ]
  },
  {
   "cell_type": "markdown",
   "metadata": {},
   "source": [
    "Теперь начинается самое интересное - итерации"
   ]
  },
  {
   "cell_type": "code",
   "execution_count": 15,
   "metadata": {},
   "outputs": [],
   "source": [
    "for i in range(num_iterations):\n",
    "        #Выбрать случайные веса и нормализовать, чтоб сумма равнялась 1\n",
    "        weights = np.array(np.random.random(9))\n",
    "        weights /= np.sum(weights)\n",
    "        \n",
    "        #Вычислить доходность и стандартное отклонение\n",
    "        portfolio_return = np.sum(mean_returns * weights)\n",
    "        portfolio_std_dev = np.sqrt(np.dot(weights.T,np.dot(cov_matrix, weights)))\n",
    "        \n",
    "        #Сохранить все полученные значения в массив\n",
    "        simulation_res[0,i] = portfolio_return\n",
    "        simulation_res[1,i] = portfolio_std_dev\n",
    "        \n",
    "        #Вычислить коэффициент Шарпа и сохранить\n",
    "        simulation_res[2,i] = simulation_res[0,i] / simulation_res[1,i]\n",
    "        \n",
    "        #Сохранить веса\n",
    "        for j in range(len(weights)):\n",
    "                simulation_res[j+3,i] = weights[j]"
   ]
  },
  {
   "cell_type": "markdown",
   "metadata": {},
   "source": [
    "Теперь сохраним полученный массив в DataFrame для построения данных и анализа."
   ]
  },
  {
   "cell_type": "code",
   "execution_count": 16,
   "metadata": {},
   "outputs": [
    {
     "name": "stdout",
     "output_type": "stream",
     "text": [
      "        ret     stdev    sharpe      ATVI        BA       CNP       CMA  \\\n",
      "0  0.000795  0.010161  0.078218  0.067363  0.020216  0.071800  0.040396   \n",
      "1  0.000797  0.009983  0.079851  0.194492  0.131366  0.115493  0.027310   \n",
      "2  0.000813  0.008824  0.092133  0.021603  0.087097  0.125632  0.232017   \n",
      "3  0.000917  0.009607  0.095400  0.149242  0.169819  0.000065  0.139876   \n",
      "4  0.000933  0.010366  0.090000  0.122920  0.183482  0.111992  0.049828   \n",
      "\n",
      "        STZ       GPN       MPC       NEM       PKI  \n",
      "0  0.180420  0.247137  0.092247  0.243372  0.037048  \n",
      "1  0.104270  0.095408  0.104157  0.086916  0.140587  \n",
      "2  0.037468  0.203455  0.072573  0.215539  0.004615  \n",
      "3  0.026421  0.082160  0.111632  0.236732  0.084053  \n",
      "4  0.212322  0.155414  0.020119  0.041337  0.102584  \n",
      "           ret     stdev    sharpe      ATVI        BA       CNP       CMA  \\\n",
      "9995  0.000792  0.009123  0.086781  0.121322  0.143459  0.033584  0.133973   \n",
      "9996  0.000818  0.010792  0.075761  0.198280  0.106581  0.184250  0.020920   \n",
      "9997  0.000627  0.008173  0.076767  0.055619  0.021289  0.114886  0.130999   \n",
      "9998  0.000784  0.009307  0.084188  0.104210  0.166725  0.115057  0.001895   \n",
      "9999  0.000754  0.008967  0.084036  0.132088  0.183416  0.125804  0.067989   \n",
      "\n",
      "           STZ       GPN       MPC       NEM       PKI  \n",
      "9995  0.007135  0.170715  0.093473  0.121973  0.174366  \n",
      "9996  0.189077  0.168271  0.048965  0.035636  0.048020  \n",
      "9997  0.176023  0.044069  0.172199  0.104333  0.180583  \n",
      "9998  0.168481  0.055453  0.197985  0.032727  0.157468  \n",
      "9999  0.069545  0.057397  0.199425  0.010016  0.154318  \n"
     ]
    }
   ],
   "source": [
    "sim_frame = pd.DataFrame(simulation_res.T,columns=['ret','stdev','sharpe',ticker[0],ticker[1],ticker[2],ticker[3],\n",
    "                                                  ticker[4],ticker[5],ticker[6],ticker[7],ticker[8]])\n",
    "print (sim_frame.head())\n",
    "print (sim_frame.tail())"
   ]
  },
  {
   "cell_type": "markdown",
   "metadata": {},
   "source": [
    "Выше показано несколько строк первых и последних получившигося результата моделирования. Теперь мы можно рассчитать портфель с максимальным коэффициентом Шарпа или минимальным риском."
   ]
  },
  {
   "cell_type": "code",
   "execution_count": 17,
   "metadata": {},
   "outputs": [
    {
     "name": "stdout",
     "output_type": "stream",
     "text": [
      "The portfolio for max Sharpe Ratio:\n",
      " ret       0.001136\n",
      "stdev     0.009726\n",
      "sharpe    0.116812\n",
      "ATVI      0.017451\n",
      "BA        0.261308\n",
      "CNP       0.051915\n",
      "CMA       0.243251\n",
      "STZ       0.064449\n",
      "GPN       0.040232\n",
      "MPC       0.014950\n",
      "NEM       0.303663\n",
      "PKI       0.002782\n",
      "Name: 6499, dtype: float64\n",
      "The portfolio for min risk:\n",
      " ret       0.000617\n",
      "stdev     0.007390\n",
      "sharpe    0.083553\n",
      "ATVI      0.043900\n",
      "BA        0.066142\n",
      "CNP       0.071841\n",
      "CMA       0.366935\n",
      "STZ       0.048924\n",
      "GPN       0.049469\n",
      "MPC       0.119941\n",
      "NEM       0.033299\n",
      "PKI       0.199549\n",
      "Name: 4721, dtype: float64\n"
     ]
    }
   ],
   "source": [
    "#Spot the position of the portfolio with highest Sharpe Ratio\n",
    "max_sharpe = sim_frame.iloc[sim_frame['sharpe'].idxmax()]\n",
    "\n",
    "#Spot the position of the portfolio with minimum Standard Deviation\n",
    "min_std = sim_frame.iloc[sim_frame['stdev'].idxmin()]\n",
    "\n",
    "robot_sim_result['Max Sh.Ratio'] = max_sharpe\n",
    "robot_sim_result['Min Risk'] = min_std\n",
    "\n",
    "print (\"The portfolio for max Sharpe Ratio:\\n\", max_sharpe)\n",
    "print (\"The portfolio for min risk:\\n\", min_std)"
   ]
  },
  {
   "cell_type": "markdown",
   "metadata": {},
   "source": [
    "Так же полученные значения могут быть построены при помощи библиотеки matplotlib и полученные значения визуализированы."
   ]
  },
  {
   "cell_type": "code",
   "execution_count": 18,
   "metadata": {},
   "outputs": [
    {
     "data": {
      "image/png": "[encoded data removed]",
      "text/plain": [
       "<Figure size 720x720 with 1 Axes>"
      ]
     },
     "metadata": {
      "needs_background": "light"
     },
     "output_type": "display_data"
    }
   ],
   "source": [
    "fig, ax = plt.subplots(figsize=(10, 10))\n",
    "\n",
    "#Create a scatter plot coloured by various Sharpe Ratios with standard deviation on the x-axis and returns on the y-axis\n",
    "plt.scatter(sim_frame.stdev,sim_frame.ret,c=sim_frame.sharpe,cmap='RdYlBu')\n",
    "plt.xlabel('Standard Deviation')\n",
    "plt.ylabel('Returns')\n",
    "plt.ylim(0,.0015)\n",
    "plt.xlim(0.007,0.012)\n",
    "\n",
    "#Plot a red star to highlight position of the portfolio with highest Sharpe Ratio\n",
    "plt.scatter(max_sharpe[1],max_sharpe[0],marker=(5,1,0),color='r',s=600)\n",
    "\n",
    "#Plot a blue star to highlight position of the portfolio with minimum Variance\n",
    "plt.scatter(min_std[1],min_std[0],marker=(5,1,0),color='b',s=600)\n",
    "\n",
    "#Plot a green star to highlight position of the portfolio with minimum Variance\n",
    "plt.scatter(portfolio_std_dev_robot, portfolio_return_robot,marker=(5,1,0),color='g',s=600)\n",
    "\n",
    "plt.show()"
   ]
  },
  {
   "cell_type": "markdown",
   "metadata": {},
   "source": [
    "Портфель с максимальным коэффициентом Шарпа показан красной звездой, синей - с минимальным стандартным отклонением и зеленая - портфель, предложенный роботом.Как видно - портфель предложенный роботом не совпадает с этими показателями. На каком остановиться портфеле - выбор за инвестором. "
   ]
  },
  {
   "cell_type": "code",
   "execution_count": null,
   "metadata": {},
   "outputs": [],
   "source": []
  }
 ],
 "metadata": {
  "kernelspec": {
   "display_name": "Python 3",
   "language": "python",
   "name": "python3"
  },
  "language_info": {
   "codemirror_mode": {
    "name": "ipython",
    "version": 3
   },
   "file_extension": ".py",
   "mimetype": "text/x-python",
   "name": "python",
   "nbconvert_exporter": "python",
   "pygments_lexer": "ipython3",
   "version": "3.7.3"
  }
 },
 "nbformat": 4,
 "nbformat_minor": 2
}
